{
 "cells": [
  {
   "cell_type": "code",
   "execution_count": 1,
   "id": "5ce84a31-7a1b-4adc-9c22-80c2fbe1eff6",
   "metadata": {},
   "outputs": [],
   "source": [
    "#1. What is a database? Differentiate between SQL and NoSQL databases.\n",
    "\n",
    "#Database : Collection of Data that is organized and stored in a way that makes it easy to access , manage and update. \n",
    "# It can used to store a wide range of info. including customer ,financial records ,inventory data.\n",
    "# SQL and NoSQL are two diff. types of database \n",
    "# SQL databases or Relational databases ,use a structured data model based on tables that are linked together using relationships. \n",
    "# SQL (Structured Query Language) to access and manipulate data. E.g. MySQL, Oracle, and SQL server.\n",
    "\n",
    "#No SQL/Non-relational database model that allows for greater flexibility and scalability. \n",
    "#NoSQL database do not use tables and relationships but instead use document-oriented or key-value data stores. \n",
    "#Used for big data and real-time web applications. E.g.  MongoDB, Cassandra, Redis.\n"
   ]
  },
  {
   "cell_type": "code",
   "execution_count": 2,
   "id": "85e058ed-39e3-4492-8557-226175210d40",
   "metadata": {},
   "outputs": [],
   "source": [
    "#2. What is DDL? Explain why CREATE, DROP, ALTER, and TRUNCATE are used with an example.\n",
    "\n",
    "#DDL stands for Data Definition Language and refers to asset of \n",
    "#SQL commands used to define and manipulate the structure of a database.\n",
    "#DDL commands are used to create, modify, and delete database objects such as tables, indexes,views,and procedures.\n",
    "#Examples: 1. CREATE: Used ton create new database objects such as table, view, or index. \n",
    "#E.g. To create a new table called “employees” with columns ID, name, and salary,\n",
    "#CODE: CREATE TABLE employees ( id INT PRIMARY KEY , name VARCHAR(50) , salary DECIMAL(10,2) );\n",
    "\n",
    "#DROP : This command is used to delete a database object.\n",
    "#For example, to delete the \"employees\" table we just created, we could use the following SQL command:\n",
    "#CODE: DROP TABLE employees;\n",
    "\n",
    "#ALTER: This command is used to modify the structure of an existing database object, such as a table or view. \n",
    "#For example, to add a new column called \"department\" to the \"employees\" table, we could use the following SQL command:\n",
    "#CODE: ALTER TABLE employees ADD department VARCHAR (50);\n",
    "\n",
    "#TRUNCATE: This command is used to delete all data from a table, but not the table structure itself. \n",
    "#For example, to remove all records from the \"employees\" table, we could use the following SQL command:\n",
    "#\tCODE : TRUNCATE TABLE employees;"
   ]
  },
  {
   "cell_type": "code",
   "execution_count": 3,
   "id": "ef908778-222a-47dc-99aa-c82c298de56d",
   "metadata": {},
   "outputs": [],
   "source": [
    "#3. What is DML? Explain INSERT, UPDATE, and DELETE with an example.\n",
    "\n",
    "#DML stands for Data Manipulation Language and refers to a set of SQL commands used to modify data within a database.\n",
    "#DML commands are used to insert, update, and delete data in database tables.\n",
    "\n",
    "#INSERT: This command is used to add new data to a table.\n",
    "#For example, to insert a new record into the \"employees\" table we created earlier, we could use the following SQL command:\n",
    "#CODE : INSERT INTO employees (id, name, salary, department) VALUES (1, 'John Smith', 50000, 'Sales');\n",
    "\n",
    "#UPDATE: This command is used to modify existing data in a table. \n",
    "#For example, to update the salary of the employee with ID 1 to 60000, we could use the following SQL command:\n",
    "#CODE : UPDATE employees SET salary = 60000 WHERE id = 1;\n",
    "\n",
    "#DELETE: This command is used to delete data from a table. \n",
    "#For example, to delete the employee with ID 1 from the \"employees\" table, we could use the following SQL command:\n",
    "#CODE : DELETE FROM employees WHERE id = 1;\n",
    "\n"
   ]
  },
  {
   "cell_type": "code",
   "execution_count": 4,
   "id": "8f218a47-305e-4641-8ae4-344b9095a0e7",
   "metadata": {},
   "outputs": [],
   "source": [
    "#4. What is DQL? Explain SELECT with an example.\n",
    "\n",
    "#DQL stands for Data Query Language and refers to a set of SQL commands used to retrieve data from a database.\n",
    "#DQL commands are used to query database tables and retrieve specific data based on specified criteria.\n",
    "\t\n",
    "#SELECT: This command is used to retrieve data from one or more database tables. \n",
    "#For example, to retrieve all records from the \"employees\" table, we could use the following SQL command:\n",
    "#CODE : SELECT * FROM employees;\n",
    "\t\n",
    "#This command would retrieve all records from the \"employees\" table and return them as a result set.\n",
    "#For example, to retrieve only the names and salaries of all employees in the \"sales\" department, we could use the following SQL command:\n",
    "#CODE : SELECT name, salary FROM employees WHERE department = 'Sales';\n"
   ]
  },
  {
   "cell_type": "code",
   "execution_count": 5,
   "id": "d00ae595-890f-48f6-b239-b7d54a044045",
   "metadata": {},
   "outputs": [],
   "source": [
    "#5. Explain Primary Key and Foreign Key.\n",
    "\t\n",
    "#Primary Key: A primary key is a unique identifier for a record in a table. \n",
    "#It is a column or set of columns that uniquely identifies each row in the table. \n",
    "#The primary key is used to ensure that each record in the table is unique and to establish relationships between tables.\n",
    "#It is typically used as a reference by foreign keys in other tables.\n",
    "\n",
    "#For example, in a table of employees, the primary key might be the employee ID column. \n",
    "#Each employee would have a unique employee ID, which could be used as a reference by foreign keys in other tables,\n",
    "#such as a table of employee salaries.\n",
    "\n",
    "#Foreign Key: A foreign key is a column in a table that refers to the primary key of another table. \n",
    "#It is used to establish relationships between tables by linking data from one table to data in another table. \n",
    "#The foreign key ensures that the data being referenced is valid and that referential integrity is maintained.\n",
    "\t\n",
    "#For example, if we have a table of employee salaries, we might have a column that refers to the primary key of the employee table. \n",
    "#This column would be the foreign key, and it would ensure that each employee's salary is \n",
    "#associated with the correct employee record in the employee table.\n"
   ]
  },
  {
   "cell_type": "code",
   "execution_count": 10,
   "id": "6ec786ba-73de-472e-9393-57d4ed21eaa4",
   "metadata": {},
   "outputs": [
    {
     "ename": "ModuleNotFoundError",
     "evalue": "No module named 'mysql'",
     "output_type": "error",
     "traceback": [
      "\u001b[0;31m---------------------------------------------------------------------------\u001b[0m",
      "\u001b[0;31mModuleNotFoundError\u001b[0m                       Traceback (most recent call last)",
      "Cell \u001b[0;32mIn[10], line 3\u001b[0m\n\u001b[1;32m      1\u001b[0m \u001b[38;5;66;03m#6. Write a python code to connect MySQL to python. Explain the cursor() and execute() method\u001b[39;00m\n\u001b[0;32m----> 3\u001b[0m \u001b[38;5;28;01mimport\u001b[39;00m \u001b[38;5;21;01mmysql\u001b[39;00m\u001b[38;5;21;01m.\u001b[39;00m\u001b[38;5;21;01mconnector\u001b[39;00m\n\u001b[1;32m      4\u001b[0m \u001b[38;5;66;03m# Establish a connection to the MySQL database\u001b[39;00m\n\u001b[1;32m      5\u001b[0m mydb \u001b[38;5;241m=\u001b[39m mysql\u001b[38;5;241m.\u001b[39mconnector\u001b[38;5;241m.\u001b[39mconnect(\n\u001b[1;32m      6\u001b[0m   host\u001b[38;5;241m=\u001b[39m\u001b[38;5;124m\"\u001b[39m\u001b[38;5;124mlocalhost\u001b[39m\u001b[38;5;124m\"\u001b[39m,\n\u001b[1;32m      7\u001b[0m   user\u001b[38;5;241m=\u001b[39m\u001b[38;5;124m\"\u001b[39m\u001b[38;5;124myourusername\u001b[39m\u001b[38;5;124m\"\u001b[39m,\n\u001b[1;32m      8\u001b[0m   password\u001b[38;5;241m=\u001b[39m\u001b[38;5;124m\"\u001b[39m\u001b[38;5;124myourpassword\u001b[39m\u001b[38;5;124m\"\u001b[39m,\n\u001b[1;32m      9\u001b[0m   database\u001b[38;5;241m=\u001b[39m\u001b[38;5;124m\"\u001b[39m\u001b[38;5;124myourdatabase\u001b[39m\u001b[38;5;124m\"\u001b[39m\n\u001b[1;32m     10\u001b[0m )\n",
      "\u001b[0;31mModuleNotFoundError\u001b[0m: No module named 'mysql'"
     ]
    }
   ],
   "source": [
    "#6. Write a python code to connect MySQL to python. Explain the cursor() and execute() method\n",
    "\n",
    "import mysql.connector\n",
    "# Establish a connection to the MySQL database\n",
    "mydb = mysql.connector.connect(\n",
    "  host=\"localhost\",\n",
    "  user=\"yourusername\",\n",
    "  password=\"yourpassword\",\n",
    "  database=\"yourdatabase\"\n",
    ")\n",
    "\n",
    "# Create a cursor object to execute SQL queries\n",
    "mycursor = mydb.cursor()\n",
    "\n",
    "# Execute a SELECT query\n",
    "mycursor.execute(\"SELECT * FROM employees\")\n",
    "\n",
    "# Fetch all rows from the result set\n",
    "myresult = mycursor.fetchall()\n",
    "\n",
    "# Print the rows\n",
    "for row in myresult:\n",
    "  print(row)\n",
    "\n",
    "\n",
    "\n",
    "#import the mysql.connector module, which allows us to connect to a MySQL database from Python.\n",
    "#We then establish a connection to the MySQL database using the mysql.connector.connect() method \n",
    "#and pass in the necessary connection details such as the host, username, password, and database name.\n",
    "\n",
    "#we create a cursor object using the cursor() method of the connection object. \n",
    "#The cursor object is used to execute SQL queries and retrieve data from the database.\n",
    "#We then execute a SELECT query using the execute() method of the cursor object. \n",
    "#The query is passed as a parameter to the execute() method.\n",
    "#After executing the query, we fetch all rows from the result set using the fetchall() method of the cursor object.\n",
    "#This method returns a list of tuples, where each tuple represents a row from the result set.\n",
    "\n"
   ]
  },
  {
   "cell_type": "code",
   "execution_count": null,
   "id": "a21c0abe-4e44-4256-9043-c90dcba1100b",
   "metadata": {},
   "outputs": [],
   "source": [
    "#7. Give the order of execution of SQL clauses in an SQL query.\n",
    "\n",
    "#FROM: The FROM clause specifies the table or tables from which to retrieve data. \n",
    "#It is the first clause to be executed in a SELECT statement.\n",
    "\n",
    "#WHERE: The WHERE clause filters the data based on specified conditions. It is executed after the FROM clause.\n",
    "\n",
    "#GROUP BY: The GROUP BY clause groups the data based on specified columns. It is executed after the WHERE clause.\n",
    "\n",
    "#HAVING: The HAVING clause filters the grouped data based on specified conditions. It is executed after the GROUP BY clause.\n",
    "\n",
    "#SELECT: The SELECT clause retrieves the data from the specified columns. It is executed after the WHERE, GROUP BY, and HAVING clauses.\n",
    "\n",
    "#ORDER BY: The ORDER BY clause sorts the data based on specified columns. It is executed after the SELECT clause.\n",
    "\n",
    "#LIMIT/OFFSET: The LIMIT and OFFSET clauses limit the number of rows returned by the query.\n",
    "#They are executed last, after all other clauses have been executed.\n"
   ]
  },
  {
   "cell_type": "code",
   "execution_count": null,
   "id": "c4331407-611a-4083-a9f6-623609384e2b",
   "metadata": {},
   "outputs": [],
   "source": []
  }
 ],
 "metadata": {
  "kernelspec": {
   "display_name": "Python 3 (ipykernel)",
   "language": "python",
   "name": "python3"
  },
  "language_info": {
   "codemirror_mode": {
    "name": "ipython",
    "version": 3
   },
   "file_extension": ".py",
   "mimetype": "text/x-python",
   "name": "python",
   "nbconvert_exporter": "python",
   "pygments_lexer": "ipython3",
   "version": "3.10.8"
  }
 },
 "nbformat": 4,
 "nbformat_minor": 5
}
